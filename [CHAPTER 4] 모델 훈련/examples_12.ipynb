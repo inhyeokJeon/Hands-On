{
 "cells": [
  {
   "cell_type": "code",
   "execution_count": 1,
   "metadata": {
    "collapsed": true
   },
   "outputs": [
    {
     "data": {
      "text/plain": "['data',\n 'target',\n 'frame',\n 'target_names',\n 'DESCR',\n 'feature_names',\n 'filename']"
     },
     "execution_count": 1,
     "metadata": {},
     "output_type": "execute_result"
    }
   ],
   "source": [
    "from matplotlib import pyplot as plt\n",
    "from sklearn import datasets\n",
    "iris = datasets.load_iris()\n",
    "list(iris.keys())"
   ]
  },
  {
   "cell_type": "code",
   "execution_count": 2,
   "outputs": [],
   "source": [
    "X = iris[\"data\"][:, (2, 3)]  # 꽃잎 길이, 꽃잎 넓이\n",
    "y = iris[\"target\"]"
   ],
   "metadata": {
    "collapsed": false,
    "pycharm": {
     "name": "#%%\n"
    }
   }
  },
  {
   "cell_type": "code",
   "execution_count": 3,
   "outputs": [],
   "source": [
    "import numpy as np\n",
    "# 샘플에 편향을 추가한다.\n",
    "X_with_bias = np.c_[np.ones([len(X), 1]), X]"
   ],
   "metadata": {
    "collapsed": false,
    "pycharm": {
     "name": "#%%\n"
    }
   }
  },
  {
   "cell_type": "code",
   "execution_count": 8,
   "outputs": [
    {
     "name": "stdout",
     "output_type": "stream",
     "text": [
      "150\n",
      "[[1.  1.4 0.2]\n",
      " [1.  1.4 0.2]\n",
      " [1.  1.3 0.2]\n",
      " [1.  1.5 0.2]\n",
      " [1.  1.4 0.2]\n",
      " [1.  1.7 0.4]\n",
      " [1.  1.4 0.3]\n",
      " [1.  1.5 0.2]\n",
      " [1.  1.4 0.2]\n",
      " [1.  1.5 0.1]\n",
      " [1.  1.5 0.2]\n",
      " [1.  1.6 0.2]\n",
      " [1.  1.4 0.1]\n",
      " [1.  1.1 0.1]\n",
      " [1.  1.2 0.2]\n",
      " [1.  1.5 0.4]\n",
      " [1.  1.3 0.4]\n",
      " [1.  1.4 0.3]\n",
      " [1.  1.7 0.3]\n",
      " [1.  1.5 0.3]\n",
      " [1.  1.7 0.2]\n",
      " [1.  1.5 0.4]\n",
      " [1.  1.  0.2]\n",
      " [1.  1.7 0.5]\n",
      " [1.  1.9 0.2]\n",
      " [1.  1.6 0.2]\n",
      " [1.  1.6 0.4]\n",
      " [1.  1.5 0.2]\n",
      " [1.  1.4 0.2]\n",
      " [1.  1.6 0.2]\n",
      " [1.  1.6 0.2]\n",
      " [1.  1.5 0.4]\n",
      " [1.  1.5 0.1]\n",
      " [1.  1.4 0.2]\n",
      " [1.  1.5 0.2]\n",
      " [1.  1.2 0.2]\n",
      " [1.  1.3 0.2]\n",
      " [1.  1.4 0.1]\n",
      " [1.  1.3 0.2]\n",
      " [1.  1.5 0.2]\n",
      " [1.  1.3 0.3]\n",
      " [1.  1.3 0.3]\n",
      " [1.  1.3 0.2]\n",
      " [1.  1.6 0.6]\n",
      " [1.  1.9 0.4]\n",
      " [1.  1.4 0.3]\n",
      " [1.  1.6 0.2]\n",
      " [1.  1.4 0.2]\n",
      " [1.  1.5 0.2]\n",
      " [1.  1.4 0.2]\n",
      " [1.  4.7 1.4]\n",
      " [1.  4.5 1.5]\n",
      " [1.  4.9 1.5]\n",
      " [1.  4.  1.3]\n",
      " [1.  4.6 1.5]\n",
      " [1.  4.5 1.3]\n",
      " [1.  4.7 1.6]\n",
      " [1.  3.3 1. ]\n",
      " [1.  4.6 1.3]\n",
      " [1.  3.9 1.4]\n",
      " [1.  3.5 1. ]\n",
      " [1.  4.2 1.5]\n",
      " [1.  4.  1. ]\n",
      " [1.  4.7 1.4]\n",
      " [1.  3.6 1.3]\n",
      " [1.  4.4 1.4]\n",
      " [1.  4.5 1.5]\n",
      " [1.  4.1 1. ]\n",
      " [1.  4.5 1.5]\n",
      " [1.  3.9 1.1]\n",
      " [1.  4.8 1.8]\n",
      " [1.  4.  1.3]\n",
      " [1.  4.9 1.5]\n",
      " [1.  4.7 1.2]\n",
      " [1.  4.3 1.3]\n",
      " [1.  4.4 1.4]\n",
      " [1.  4.8 1.4]\n",
      " [1.  5.  1.7]\n",
      " [1.  4.5 1.5]\n",
      " [1.  3.5 1. ]\n",
      " [1.  3.8 1.1]\n",
      " [1.  3.7 1. ]\n",
      " [1.  3.9 1.2]\n",
      " [1.  5.1 1.6]\n",
      " [1.  4.5 1.5]\n",
      " [1.  4.5 1.6]\n",
      " [1.  4.7 1.5]\n",
      " [1.  4.4 1.3]\n",
      " [1.  4.1 1.3]\n",
      " [1.  4.  1.3]\n",
      " [1.  4.4 1.2]\n",
      " [1.  4.6 1.4]\n",
      " [1.  4.  1.2]\n",
      " [1.  3.3 1. ]\n",
      " [1.  4.2 1.3]\n",
      " [1.  4.2 1.2]\n",
      " [1.  4.2 1.3]\n",
      " [1.  4.3 1.3]\n",
      " [1.  3.  1.1]\n",
      " [1.  4.1 1.3]\n",
      " [1.  6.  2.5]\n",
      " [1.  5.1 1.9]\n",
      " [1.  5.9 2.1]\n",
      " [1.  5.6 1.8]\n",
      " [1.  5.8 2.2]\n",
      " [1.  6.6 2.1]\n",
      " [1.  4.5 1.7]\n",
      " [1.  6.3 1.8]\n",
      " [1.  5.8 1.8]\n",
      " [1.  6.1 2.5]\n",
      " [1.  5.1 2. ]\n",
      " [1.  5.3 1.9]\n",
      " [1.  5.5 2.1]\n",
      " [1.  5.  2. ]\n",
      " [1.  5.1 2.4]\n",
      " [1.  5.3 2.3]\n",
      " [1.  5.5 1.8]\n",
      " [1.  6.7 2.2]\n",
      " [1.  6.9 2.3]\n",
      " [1.  5.  1.5]\n",
      " [1.  5.7 2.3]\n",
      " [1.  4.9 2. ]\n",
      " [1.  6.7 2. ]\n",
      " [1.  4.9 1.8]\n",
      " [1.  5.7 2.1]\n",
      " [1.  6.  1.8]\n",
      " [1.  4.8 1.8]\n",
      " [1.  4.9 1.8]\n",
      " [1.  5.6 2.1]\n",
      " [1.  5.8 1.6]\n",
      " [1.  6.1 1.9]\n",
      " [1.  6.4 2. ]\n",
      " [1.  5.6 2.2]\n",
      " [1.  5.1 1.5]\n",
      " [1.  5.6 1.4]\n",
      " [1.  6.1 2.3]\n",
      " [1.  5.6 2.4]\n",
      " [1.  5.5 1.8]\n",
      " [1.  4.8 1.8]\n",
      " [1.  5.4 2.1]\n",
      " [1.  5.6 2.4]\n",
      " [1.  5.1 2.3]\n",
      " [1.  5.1 1.9]\n",
      " [1.  5.9 2.3]\n",
      " [1.  5.7 2.5]\n",
      " [1.  5.2 2.3]\n",
      " [1.  5.  1.9]\n",
      " [1.  5.2 2. ]\n",
      " [1.  5.4 2.3]\n",
      " [1.  5.1 1.8]]\n"
     ]
    }
   ],
   "source": [
    "#결과를 일정하게 하기 위해 랜덤시드\n",
    "np.random.seed(2042)\n",
    "print(len(X))\n",
    "print(X_with_bias)"
   ],
   "metadata": {
    "collapsed": false,
    "pycharm": {
     "name": "#%%\n"
    }
   }
  },
  {
   "cell_type": "code",
   "execution_count": 5,
   "outputs": [],
   "source": [
    "# 사이킷런의 train_test_split() 함수를 쓰지않고 테스트 트레인세트 분리.\n",
    "test_ratio = 0.2\n",
    "validation_ratio = 0.2\n",
    "total_size = len(X_with_bias)\n",
    "\n",
    "test_size = int(total_size * test_ratio)\n",
    "validation_size = int(total_size * validation_ratio)\n",
    "train_size = total_size - test_size - validation_size\n",
    "\n",
    "rnd_indices = np.random.permutation(total_size)\n",
    "\n",
    "X_train = X_with_bias[rnd_indices[:train_size]]\n",
    "y_train = y[rnd_indices[:train_size]]\n",
    "X_valid = X_with_bias[rnd_indices[train_size:-test_size]]\n",
    "y_valid = y[rnd_indices[train_size:-test_size]]\n",
    "X_test = X_with_bias[rnd_indices[-test_size:]]\n",
    "y_test = y[rnd_indices[-test_size:]]"
   ],
   "metadata": {
    "collapsed": false,
    "pycharm": {
     "name": "#%%\n"
    }
   }
  },
  {
   "cell_type": "code",
   "execution_count": 9,
   "outputs": [],
   "source": [
    "# 타깃클래스의 확률을 one hot encoding 으로 표현한다.\n",
    "# ex ) 해당 클래스가 1 이면 ( 0 , 1 , 0) 2이면 (0 , 0 , 1)\n",
    "def to_one_hot(y):\n",
    "    n_classes = y.max() + 1\n",
    "    m = len(y)\n",
    "    Y_one_hot = np.zeros((m, n_classes))\n",
    "    Y_one_hot[np.arange(m), y] = 1\n",
    "    return Y_one_hot"
   ],
   "metadata": {
    "collapsed": false,
    "pycharm": {
     "name": "#%%\n"
    }
   }
  },
  {
   "cell_type": "code",
   "execution_count": 10,
   "outputs": [],
   "source": [
    "#훈련 세트와 테스트 세트의 타깃 클래스 확률을 담은 행렬을 만듬\n",
    "Y_train_one_hot = to_one_hot(y_train)\n",
    "Y_valid_one_hot = to_one_hot(y_valid)\n",
    "Y_test_one_hot = to_one_hot(y_test)"
   ],
   "metadata": {
    "collapsed": false,
    "pycharm": {
     "name": "#%%\n"
    }
   }
  },
  {
   "cell_type": "code",
   "execution_count": 11,
   "outputs": [],
   "source": [
    "# 소프트맥스 만드는 함수.\n",
    "def softmax(logits):\n",
    "    exps = np.exp(logits)\n",
    "    exp_sums = np.sum(exps, axis=1, keepdims=True)\n",
    "    return exps / exp_sums"
   ],
   "metadata": {
    "collapsed": false,
    "pycharm": {
     "name": "#%%\n"
    }
   }
  },
  {
   "cell_type": "code",
   "execution_count": 12,
   "outputs": [],
   "source": [
    "# 입력 개수와 출력 개수를 정한다.\n",
    "n_inputs = X_train.shape[1] # == 3 (특성 2개와 편향)\n",
    "n_outputs = len(np.unique(y_train))   # == 3 (3개의 붓꽃 클래스)"
   ],
   "metadata": {
    "collapsed": false,
    "pycharm": {
     "name": "#%%\n"
    }
   }
  },
  {
   "cell_type": "code",
   "execution_count": 13,
   "outputs": [
    {
     "name": "stdout",
     "output_type": "stream",
     "text": [
      "0 2.4618322572793834\n",
      "500 0.8960100494383187\n",
      "1000 0.7194308091680076\n",
      "1500 0.6187837145478177\n",
      "2000 0.5554100567057791\n",
      "2500 0.5116324543128722\n",
      "3000 0.4791389679720147\n",
      "3500 0.45369533024038217\n",
      "4000 0.4329611307846497\n",
      "4500 0.41554724919679975\n",
      "5000 0.4005783959354107\n"
     ]
    }
   ],
   "source": [
    "eta = 0.01\n",
    "n_iterations = 5001\n",
    "m = len(X_train)\n",
    "epsilon = 1e-7\n",
    "\n",
    "# 소프트 맥스 모델 훈련\n",
    "Theta = np.random.randn(n_inputs, n_outputs)\n",
    "\n",
    "for iteration in range(n_iterations):\n",
    "    logits = X_train.dot(Theta)\n",
    "    Y_proba = softmax(logits)\n",
    "    if iteration % 500 == 0:\n",
    "        loss = -np.mean(np.sum(Y_train_one_hot * np.log(Y_proba + epsilon), axis=1))\n",
    "        print(iteration, loss)\n",
    "    error = Y_proba - Y_train_one_hot\n",
    "    gradients = 1/m * X_train.T.dot(error)\n",
    "    Theta = Theta - eta * gradients"
   ],
   "metadata": {
    "collapsed": false,
    "pycharm": {
     "name": "#%%\n"
    }
   }
  },
  {
   "cell_type": "code",
   "execution_count": null,
   "outputs": [],
   "source": [
    "Theta"
   ],
   "metadata": {
    "collapsed": false,
    "pycharm": {
     "name": "#%%\n"
    }
   }
  },
  {
   "cell_type": "code",
   "execution_count": 15,
   "outputs": [
    {
     "data": {
      "text/plain": "0.9666666666666667"
     },
     "execution_count": 15,
     "metadata": {},
     "output_type": "execute_result"
    }
   ],
   "source": [
    "# 검증 세트에 대한 예측과 정확도 파악.\n",
    "logits = X_valid.dot(Theta)\n",
    "Y_proba = softmax(logits)\n",
    "y_predict = np.argmax(Y_proba, axis=1)\n",
    "\n",
    "accuracy_score = np.mean(y_predict == y_valid)\n",
    "accuracy_score"
   ],
   "metadata": {
    "collapsed": false,
    "pycharm": {
     "name": "#%%\n"
    }
   }
  },
  {
   "cell_type": "code",
   "execution_count": 16,
   "outputs": [
    {
     "name": "stdout",
     "output_type": "stream",
     "text": [
      "0 2.3556685869611\n",
      "500 0.5017033519259047\n",
      "1000 0.49397488965900627\n",
      "1500 0.4910081943276672\n",
      "2000 0.4897766661854226\n",
      "2500 0.4892455164868965\n",
      "3000 0.4890113354188057\n",
      "3500 0.48890667912737373\n",
      "4000 0.48885950299831016\n",
      "4500 0.48883811774928476\n",
      "5000 0.48882838777241155\n"
     ]
    }
   ],
   "source": [
    "## 규제를 추가한 모델 훈련\n",
    "eta = 0.1\n",
    "n_iterations = 5001\n",
    "m = len(X_train)\n",
    "epsilon = 1e-7\n",
    "alpha = 0.1  # 규제 하이퍼파라미터\n",
    "\n",
    "Theta = np.random.randn(n_inputs, n_outputs)\n",
    "\n",
    "for iteration in range(n_iterations):\n",
    "    logits = X_train.dot(Theta)\n",
    "    Y_proba = softmax(logits)\n",
    "    if iteration % 500 == 0:\n",
    "        xentropy_loss = -np.mean(np.sum(Y_train_one_hot * np.log(Y_proba + epsilon), axis=1))\n",
    "        l2_loss = 1/2 * np.sum(np.square(Theta[1:]))\n",
    "        loss = xentropy_loss + alpha * l2_loss\n",
    "        print(iteration, loss)\n",
    "    error = Y_proba - Y_train_one_hot\n",
    "    gradients = 1/m * X_train.T.dot(error) + np.r_[np.zeros([1, n_outputs]), alpha * Theta[1:]]\n",
    "    Theta = Theta - eta * gradients\n",
    "\n"
   ],
   "metadata": {
    "collapsed": false,
    "pycharm": {
     "name": "#%%\n"
    }
   }
  },
  {
   "cell_type": "code",
   "execution_count": 17,
   "outputs": [
    {
     "data": {
      "text/plain": "1.0"
     },
     "execution_count": 17,
     "metadata": {},
     "output_type": "execute_result"
    }
   ],
   "source": [
    "logits = X_valid.dot(Theta)\n",
    "Y_proba = softmax(logits)\n",
    "y_predict = np.argmax(Y_proba, axis=1)\n",
    "\n",
    "accuracy_score = np.mean(y_predict == y_valid)\n",
    "accuracy_score\n"
   ],
   "metadata": {
    "collapsed": false,
    "pycharm": {
     "name": "#%%\n"
    }
   }
  },
  {
   "cell_type": "code",
   "execution_count": 19,
   "outputs": [
    {
     "name": "stdout",
     "output_type": "stream",
     "text": [
      "0 2.132036398957862\n",
      "500 0.5619816415670611\n",
      "1000 0.5406649010795692\n",
      "1500 0.5347019656780604\n",
      "2000 0.5329521475836086\n",
      "2500 0.5325587804998732\n",
      "2642 0.5325462533423048\n",
      "2643 0.532546253758585 조기 종료!\n"
     ]
    }
   ],
   "source": [
    "## 반복된 검증세트에서 손실을 계산해 오차가 증가하면 조기 종료 를 추가하였따!\n",
    "eta = 0.1\n",
    "n_iterations = 5001\n",
    "m = len(X_train)\n",
    "epsilon = 1e-7\n",
    "alpha = 0.1  # 규제 하이퍼파라미터\n",
    "best_loss = np.infty\n",
    "\n",
    "Theta = np.random.randn(n_inputs, n_outputs)\n",
    "\n",
    "for iteration in range(n_iterations):\n",
    "    logits = X_train.dot(Theta)\n",
    "    Y_proba = softmax(logits)\n",
    "    error = Y_proba - Y_train_one_hot\n",
    "    gradients = 1/m * X_train.T.dot(error) + np.r_[np.zeros([1, n_outputs]), alpha * Theta[1:]]\n",
    "    Theta = Theta - eta * gradients\n",
    "\n",
    "    logits = X_valid.dot(Theta)\n",
    "    Y_proba = softmax(logits)\n",
    "    xentropy_loss = -np.mean(np.sum(Y_valid_one_hot * np.log(Y_proba + epsilon), axis=1))\n",
    "    l2_loss = 1/2 * np.sum(np.square(Theta[1:]))\n",
    "    loss = xentropy_loss + alpha * l2_loss\n",
    "    if iteration % 500 == 0:\n",
    "        print(iteration, loss)\n",
    "    if loss < best_loss:\n",
    "        best_loss = loss\n",
    "    else:\n",
    "        print(iteration - 1, best_loss)\n",
    "        print(iteration, loss, \"조기 종료!\")\n",
    "        break"
   ],
   "metadata": {
    "collapsed": false,
    "pycharm": {
     "name": "#%%\n"
    }
   }
  },
  {
   "cell_type": "code",
   "execution_count": 20,
   "outputs": [
    {
     "data": {
      "text/plain": "1.0"
     },
     "execution_count": 20,
     "metadata": {},
     "output_type": "execute_result"
    }
   ],
   "source": [
    "logits = X_valid.dot(Theta)\n",
    "Y_proba = softmax(logits)\n",
    "y_predict = np.argmax(Y_proba, axis=1)\n",
    "\n",
    "accuracy_score = np.mean(y_predict == y_valid)\n",
    "accuracy_score"
   ],
   "metadata": {
    "collapsed": false,
    "pycharm": {
     "name": "#%%\n"
    }
   }
  },
  {
   "cell_type": "code",
   "execution_count": 22,
   "outputs": [
    {
     "data": {
      "text/plain": "<Figure size 720x288 with 1 Axes>",
      "image/png": "[encoded data removed]"
     },
     "metadata": {
      "needs_background": "light"
     },
     "output_type": "display_data"
    }
   ],
   "source": [
    "# 그래프로 확인\n",
    "from matplotlib import pyplot as plt\n",
    "x0, x1 = np.meshgrid(\n",
    "        np.linspace(0, 8, 500).reshape(-1, 1),\n",
    "        np.linspace(0, 3.5, 200).reshape(-1, 1),\n",
    "    )\n",
    "X_new = np.c_[x0.ravel(), x1.ravel()]\n",
    "X_new_with_bias = np.c_[np.ones([len(X_new), 1]), X_new]\n",
    "\n",
    "logits = X_new_with_bias.dot(Theta)\n",
    "Y_proba = softmax(logits)\n",
    "y_predict = np.argmax(Y_proba, axis=1)\n",
    "\n",
    "zz1 = Y_proba[:, 1].reshape(x0.shape)\n",
    "zz = y_predict.reshape(x0.shape)\n",
    "\n",
    "plt.figure(figsize=(10, 4))\n",
    "plt.plot(X[y==2, 0], X[y==2, 1], \"g^\", label=\"Iris virginica\")\n",
    "plt.plot(X[y==1, 0], X[y==1, 1], \"bs\", label=\"Iris versicolor\")\n",
    "plt.plot(X[y==0, 0], X[y==0, 1], \"yo\", label=\"Iris setosa\")\n",
    "\n",
    "from matplotlib.colors import ListedColormap\n",
    "custom_cmap = ListedColormap(['#fafab0','#9898ff','#a0faa0'])\n",
    "\n",
    "plt.contourf(x0, x1, zz, cmap=custom_cmap)\n",
    "contour = plt.contour(x0, x1, zz1, cmap=plt.cm.brg)\n",
    "plt.clabel(contour, inline=1, fontsize=12)\n",
    "plt.xlabel(\"Petal length\", fontsize=14)\n",
    "plt.ylabel(\"Petal width\", fontsize=14)\n",
    "plt.legend(loc=\"upper left\", fontsize=14)\n",
    "plt.axis([0, 7, 0, 3.5])\n",
    "plt.show()"
   ],
   "metadata": {
    "collapsed": false,
    "pycharm": {
     "name": "#%%\n"
    }
   }
  },
  {
   "cell_type": "code",
   "execution_count": 23,
   "outputs": [
    {
     "data": {
      "text/plain": "0.9333333333333333"
     },
     "execution_count": 23,
     "metadata": {},
     "output_type": "execute_result"
    }
   ],
   "source": [
    "#테스트 셋\n",
    "logits = X_test.dot(Theta)\n",
    "Y_proba = softmax(logits)\n",
    "y_predict = np.argmax(Y_proba, axis=1)\n",
    "\n",
    "accuracy_score = np.mean(y_predict == y_test)\n",
    "accuracy_score\n"
   ],
   "metadata": {
    "collapsed": false,
    "pycharm": {
     "name": "#%%\n"
    }
   }
  }
 ],
 "metadata": {
  "kernelspec": {
   "display_name": "Python 3",
   "language": "python",
   "name": "python3"
  },
  "language_info": {
   "codemirror_mode": {
    "name": "ipython",
    "version": 2
   },
   "file_extension": ".py",
   "mimetype": "text/x-python",
   "name": "python",
   "nbconvert_exporter": "python",
   "pygments_lexer": "ipython2",
   "version": "2.7.6"
  }
 },
 "nbformat": 4,
 "nbformat_minor": 0
}