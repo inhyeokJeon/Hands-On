{
 "cells": [
  {
   "cell_type": "code",
   "execution_count": 2,
   "metadata": {
    "collapsed": true
   },
   "outputs": [],
   "source": [
    "import numpy as np\n",
    "from sklearn.datasets import fetch_openml\n",
    "from sklearn.metrics import accuracy_score\n",
    "\n",
    "mnist = fetch_openml('mnist_784', version=1, cache=True)\n",
    "\n",
    "X = mnist[\"data\"]\n",
    "y = mnist[\"target\"].astype(np.uint8)\n",
    "\n",
    "X_train = X[:60000]\n",
    "y_train = y[:60000]\n",
    "X_test = X[60000:]\n",
    "y_test = y[60000:]"
   ]
  },
  {
   "cell_type": "code",
   "execution_count": 6,
   "outputs": [
    {
     "data": {
      "text/plain": "SVC(gamma='auto', random_state=42)"
     },
     "execution_count": 6,
     "metadata": {},
     "output_type": "execute_result"
    }
   ],
   "source": [
    "from sklearn.preprocessing import StandardScaler\n",
    "scaler = StandardScaler()\n",
    "\n",
    "X_train_scaled = scaler.fit_transform(X_train.astype(np.float32))\n",
    "X_test_scaled = scaler.transform(X_test.astype(np.float32))\n",
    "from sklearn.svm import SVC\n",
    "svm_clf = SVC(gamma=\"scale\")\n",
    "svm_clf.fit(X_train_scaled[:10000], y_train[:10000])"
   ],
   "metadata": {
    "collapsed": false,
    "pycharm": {
     "name": "#%%\n"
    }
   }
  },
  {
   "cell_type": "code",
   "execution_count": 8,
   "outputs": [
    {
     "data": {
      "text/plain": "0.9449166666666666"
     },
     "execution_count": 8,
     "metadata": {},
     "output_type": "execute_result"
    }
   ],
   "source": [
    "y_pred = svm_clf.predict(X_train_scaled)\n",
    "accuracy_score(y_train, y_pred)"
   ],
   "metadata": {
    "collapsed": false,
    "pycharm": {
     "name": "#%%\n"
    }
   }
  },
  {
   "cell_type": "code",
   "execution_count": 9,
   "outputs": [
    {
     "name": "stdout",
     "output_type": "stream",
     "text": [
      "Fitting 3 folds for each of 10 candidates, totalling 30 fits\n",
      "[CV] END ....C=7.177374112411989, gamma=0.018171819739932735; total time=   0.3s\n",
      "[CV] END ....C=7.177374112411989, gamma=0.018171819739932735; total time=   0.2s\n",
      "[CV] END ....C=7.177374112411989, gamma=0.018171819739932735; total time=   0.3s\n",
      "[CV] END ....C=5.012068164591593, gamma=0.010791905605811872; total time=   0.2s\n",
      "[CV] END ....C=5.012068164591593, gamma=0.010791905605811872; total time=   0.2s\n",
      "[CV] END ....C=5.012068164591593, gamma=0.010791905605811872; total time=   0.2s\n",
      "[CV] END ...C=6.7744511965028735, gamma=0.008939985494326938; total time=   0.2s\n",
      "[CV] END ...C=6.7744511965028735, gamma=0.008939985494326938; total time=   0.2s\n",
      "[CV] END ...C=6.7744511965028735, gamma=0.008939985494326938; total time=   0.2s\n",
      "[CV] END ...C=10.652462348161254, gamma=0.001690031673531115; total time=   0.2s\n",
      "[CV] END ...C=10.652462348161254, gamma=0.001690031673531115; total time=   0.2s\n",
      "[CV] END ...C=10.652462348161254, gamma=0.001690031673531115; total time=   0.2s\n",
      "[CV] END ....C=6.87842882330298, gamma=0.0039299196406789765; total time=   0.2s\n",
      "[CV] END ....C=6.87842882330298, gamma=0.0039299196406789765; total time=   0.2s\n",
      "[CV] END ....C=6.87842882330298, gamma=0.0039299196406789765; total time=   0.2s\n",
      "[CV] END ....C=1.414552695344541, gamma=0.027158667330761027; total time=   0.2s\n",
      "[CV] END ....C=1.414552695344541, gamma=0.027158667330761027; total time=   0.2s\n",
      "[CV] END ....C=1.414552695344541, gamma=0.027158667330761027; total time=   0.3s\n",
      "[CV] END ....C=6.9098882275190885, gamma=0.03935546279553638; total time=   0.3s\n",
      "[CV] END ....C=6.9098882275190885, gamma=0.03935546279553638; total time=   0.3s\n",
      "[CV] END ....C=6.9098882275190885, gamma=0.03935546279553638; total time=   0.3s\n",
      "[CV] END ....C=3.655443724646603, gamma=0.016132691905614716; total time=   0.2s\n",
      "[CV] END ....C=3.655443724646603, gamma=0.016132691905614716; total time=   0.2s\n",
      "[CV] END ....C=3.655443724646603, gamma=0.016132691905614716; total time=   0.3s\n",
      "[CV] END ....C=2.747187300587515, gamma=0.029111740890553753; total time=   0.3s\n",
      "[CV] END ....C=2.747187300587515, gamma=0.029111740890553753; total time=   0.2s\n",
      "[CV] END ....C=2.747187300587515, gamma=0.029111740890553753; total time=   0.3s\n",
      "[CV] END ....C=6.059757188341525, gamma=0.006174664178810234; total time=   0.3s\n",
      "[CV] END ....C=6.059757188341525, gamma=0.006174664178810234; total time=   0.2s\n",
      "[CV] END ....C=6.059757188341525, gamma=0.006174664178810234; total time=   0.2s\n"
     ]
    },
    {
     "data": {
      "text/plain": "RandomizedSearchCV(cv=3, estimator=SVC(gamma='auto', random_state=42),\n                   param_distributions={'C': <scipy.stats._distn_infrastructure.rv_frozen object at 0x7ff85e731950>,\n                                        'gamma': <scipy.stats._distn_infrastructure.rv_frozen object at 0x7ff85e731110>},\n                   verbose=2)"
     },
     "execution_count": 9,
     "metadata": {},
     "output_type": "execute_result"
    }
   ],
   "source": [
    "from sklearn.model_selection import RandomizedSearchCV\n",
    "from scipy.stats import reciprocal, uniform\n",
    "\n",
    "param_distributions = {\"gamma\": reciprocal(0.001, 0.1), \"C\": uniform(1, 10)}\n",
    "rnd_search_cv = RandomizedSearchCV(svm_clf, param_distributions, n_iter=10, verbose=2, cv=3)\n",
    "rnd_search_cv.fit(X_train_scaled[:1000], y_train[:1000])"
   ],
   "metadata": {
    "collapsed": false,
    "pycharm": {
     "name": "#%%\n"
    }
   }
  },
  {
   "cell_type": "code",
   "execution_count": null,
   "outputs": [],
   "source": [],
   "metadata": {
    "collapsed": false,
    "pycharm": {
     "name": "#%%\n"
    }
   }
  }
 ],
 "metadata": {
  "kernelspec": {
   "display_name": "Python 3",
   "language": "python",
   "name": "python3"
  },
  "language_info": {
   "codemirror_mode": {
    "name": "ipython",
    "version": 2
   },
   "file_extension": ".py",
   "mimetype": "text/x-python",
   "name": "python",
   "nbconvert_exporter": "python",
   "pygments_lexer": "ipython2",
   "version": "2.7.6"
  }
 },
 "nbformat": 4,
 "nbformat_minor": 0
}