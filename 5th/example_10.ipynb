{
 "cells": [
  {
   "cell_type": "code",
   "execution_count": 2,
   "metadata": {
    "collapsed": true
   },
   "outputs": [],
   "source": [
    "from sklearn.datasets import fetch_california_housing\n",
    "\n",
    "housing = fetch_california_housing()\n",
    "X = housing[\"data\"]\n",
    "y = housing[\"target\"]"
   ]
  },
  {
   "cell_type": "code",
   "execution_count": 3,
   "outputs": [],
   "source": [
    "from sklearn.model_selection import train_test_split\n",
    "\n",
    "X_train, X_test, y_train, y_test = train_test_split(X, y, test_size=0.2, random_state=42)"
   ],
   "metadata": {
    "collapsed": false,
    "pycharm": {
     "name": "#%%\n"
    }
   }
  },
  {
   "cell_type": "code",
   "execution_count": 4,
   "outputs": [],
   "source": [
    "from sklearn.preprocessing import StandardScaler\n",
    "\n",
    "scaler = StandardScaler()\n",
    "X_train_scaled = scaler.fit_transform(X_train)\n",
    "X_test_scaled = scaler.transform(X_test)"
   ],
   "metadata": {
    "collapsed": false,
    "pycharm": {
     "name": "#%%\n"
    }
   }
  },
  {
   "cell_type": "code",
   "execution_count": 5,
   "outputs": [
    {
     "name": "stdout",
     "output_type": "stream",
     "text": [
      "Fitting 3 folds for each of 10 candidates, totalling 30 fits\n",
      "[CV] END .....C=4.745401188473625, gamma=0.07969454818643928; total time=   9.8s\n",
      "[CV] END .....C=4.745401188473625, gamma=0.07969454818643928; total time=   9.0s\n",
      "[CV] END .....C=4.745401188473625, gamma=0.07969454818643928; total time=   9.3s\n",
      "[CV] END .....C=8.31993941811405, gamma=0.015751320499779724; total time=   9.1s\n",
      "[CV] END .....C=8.31993941811405, gamma=0.015751320499779724; total time=   9.0s\n",
      "[CV] END .....C=8.31993941811405, gamma=0.015751320499779724; total time=   9.0s\n",
      "[CV] END ....C=2.560186404424365, gamma=0.002051110418843397; total time=   8.7s\n",
      "[CV] END ....C=2.560186404424365, gamma=0.002051110418843397; total time=   8.8s\n",
      "[CV] END ....C=2.560186404424365, gamma=0.002051110418843397; total time=   8.7s\n",
      "[CV] END ....C=1.5808361216819946, gamma=0.05399484409787431; total time=   8.5s\n",
      "[CV] END ....C=1.5808361216819946, gamma=0.05399484409787431; total time=   8.7s\n",
      "[CV] END ....C=1.5808361216819946, gamma=0.05399484409787431; total time=   8.7s\n",
      "[CV] END ....C=7.011150117432088, gamma=0.026070247583707663; total time=   9.0s\n",
      "[CV] END ....C=7.011150117432088, gamma=0.026070247583707663; total time=   9.1s\n",
      "[CV] END ....C=7.011150117432088, gamma=0.026070247583707663; total time=   9.0s\n",
      "[CV] END .....C=1.2058449429580245, gamma=0.0870602087830485; total time=   8.3s\n",
      "[CV] END .....C=1.2058449429580245, gamma=0.0870602087830485; total time=   8.5s\n",
      "[CV] END .....C=1.2058449429580245, gamma=0.0870602087830485; total time=   8.5s\n",
      "[CV] END ...C=9.324426408004218, gamma=0.0026587543983272693; total time=   8.9s\n",
      "[CV] END ...C=9.324426408004218, gamma=0.0026587543983272693; total time=   9.0s\n",
      "[CV] END ...C=9.324426408004218, gamma=0.0026587543983272693; total time=   8.8s\n",
      "[CV] END ...C=2.818249672071006, gamma=0.0023270677083837795; total time=   8.8s\n",
      "[CV] END ...C=2.818249672071006, gamma=0.0023270677083837795; total time=   8.8s\n",
      "[CV] END ...C=2.818249672071006, gamma=0.0023270677083837795; total time=   9.0s\n",
      "[CV] END ....C=4.042422429595377, gamma=0.011207606211860567; total time=   8.8s\n",
      "[CV] END ....C=4.042422429595377, gamma=0.011207606211860567; total time=   8.9s\n",
      "[CV] END ....C=4.042422429595377, gamma=0.011207606211860567; total time=   8.7s\n",
      "[CV] END ....C=5.319450186421157, gamma=0.003823475224675185; total time=   8.8s\n",
      "[CV] END ....C=5.319450186421157, gamma=0.003823475224675185; total time=   8.6s\n",
      "[CV] END ....C=5.319450186421157, gamma=0.003823475224675185; total time=   8.8s\n"
     ]
    },
    {
     "data": {
      "text/plain": "RandomizedSearchCV(cv=3, estimator=SVR(),\n                   param_distributions={'C': <scipy.stats._distn_infrastructure.rv_frozen object at 0x7fc3bc9e7810>,\n                                        'gamma': <scipy.stats._distn_infrastructure.rv_frozen object at 0x7fc3bb486f90>},\n                   random_state=42, verbose=2)"
     },
     "execution_count": 5,
     "metadata": {},
     "output_type": "execute_result"
    }
   ],
   "source": [
    "from sklearn.svm import SVR\n",
    "from sklearn.model_selection import RandomizedSearchCV\n",
    "from scipy.stats import reciprocal, uniform\n",
    "\n",
    "param_distributions = {\"gamma\": reciprocal(0.001, 0.1), \"C\": uniform(1, 10)}\n",
    "rnd_search_cv = RandomizedSearchCV(SVR(), param_distributions, n_iter=10, verbose=2, cv=3, random_state=42)\n",
    "rnd_search_cv.fit(X_train_scaled, y_train)"
   ],
   "metadata": {
    "collapsed": false,
    "pycharm": {
     "name": "#%%\n"
    }
   }
  },
  {
   "cell_type": "code",
   "execution_count": 6,
   "outputs": [
    {
     "data": {
      "text/plain": "0.5727524770785367"
     },
     "execution_count": 6,
     "metadata": {},
     "output_type": "execute_result"
    }
   ],
   "source": [
    "import numpy as np\n",
    "from skimage.metrics import mean_squared_error\n",
    "y_pred = rnd_search_cv.best_estimator_.predict(X_train_scaled)\n",
    "mse = mean_squared_error(y_train, y_pred)\n",
    "np.sqrt(mse)"
   ],
   "metadata": {
    "collapsed": false,
    "pycharm": {
     "name": "#%%\n"
    }
   }
  },
  {
   "cell_type": "code",
   "execution_count": 7,
   "outputs": [
    {
     "data": {
      "text/plain": "0.5929168385528746"
     },
     "execution_count": 7,
     "metadata": {},
     "output_type": "execute_result"
    }
   ],
   "source": [
    "y_pred = rnd_search_cv.best_estimator_.predict(X_test_scaled)\n",
    "mse = mean_squared_error(y_test, y_pred)\n",
    "np.sqrt(mse)\n"
   ],
   "metadata": {
    "collapsed": false,
    "pycharm": {
     "name": "#%%\n"
    }
   }
  },
  {
   "cell_type": "code",
   "execution_count": 8,
   "outputs": [
    {
     "data": {
      "text/plain": "SVR(C=4.745401188473625, gamma=0.07969454818643928)"
     },
     "execution_count": 8,
     "metadata": {},
     "output_type": "execute_result"
    }
   ],
   "source": [
    "rnd_search_cv.best_estimator_\n",
    "\n"
   ],
   "metadata": {
    "collapsed": false,
    "pycharm": {
     "name": "#%%\n"
    }
   }
  },
  {
   "cell_type": "code",
   "execution_count": null,
   "outputs": [],
   "source": [],
   "metadata": {
    "collapsed": false,
    "pycharm": {
     "name": "#%%\n"
    }
   }
  }
 ],
 "metadata": {
  "kernelspec": {
   "display_name": "Python 3",
   "language": "python",
   "name": "python3"
  },
  "language_info": {
   "codemirror_mode": {
    "name": "ipython",
    "version": 2
   },
   "file_extension": ".py",
   "mimetype": "text/x-python",
   "name": "python",
   "nbconvert_exporter": "python",
   "pygments_lexer": "ipython2",
   "version": "2.7.6"
  }
 },
 "nbformat": 4,
 "nbformat_minor": 0
}