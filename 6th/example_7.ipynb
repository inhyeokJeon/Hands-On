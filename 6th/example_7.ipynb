{
 "cells": [
  {
   "cell_type": "code",
   "execution_count": 1,
   "metadata": {
    "collapsed": true
   },
   "outputs": [],
   "source": [
    "\n",
    "from sklearn.datasets import make_moons\n",
    "from sklearn.model_selection import train_test_split\n",
    "\n",
    "X, y = make_moons(n_samples=100, noise=0.4, random_state=42)\n",
    "\n",
    "X_train, x_test, y_train, y_test = train_test_split(X,y)"
   ]
  },
  {
   "cell_type": "code",
   "execution_count": 12,
   "outputs": [
    {
     "data": {
      "text/plain": "GridSearchCV(estimator=DecisionTreeClassifier(),\n             param_grid=[{'max_leaf_nodes': [3, 5, 8]}])"
     },
     "execution_count": 12,
     "metadata": {},
     "output_type": "execute_result"
    }
   ],
   "source": [
    "from sklearn.tree import DecisionTreeClassifier\n",
    "from sklearn.model_selection import GridSearchCV\n",
    "dt_clf = DecisionTreeClassifier()\n",
    "param_grid =[\n",
    "    {\"max_leaf_nodes\" : [3,5,8] }\n",
    "]\n",
    "grid_search = GridSearchCV(dt_clf, param_grid)\n",
    "grid_search.fit(X_train, y_train)"
   ],
   "metadata": {
    "collapsed": false,
    "pycharm": {
     "name": "#%%\n"
    }
   }
  },
  {
   "cell_type": "code",
   "execution_count": 13,
   "outputs": [
    {
     "data": {
      "text/plain": "{'max_leaf_nodes': 3}"
     },
     "execution_count": 13,
     "metadata": {},
     "output_type": "execute_result"
    }
   ],
   "source": [
    "grid_search.best_params_\n"
   ],
   "metadata": {
    "collapsed": false,
    "pycharm": {
     "name": "#%%\n"
    }
   }
  },
  {
   "cell_type": "code",
   "execution_count": 16,
   "outputs": [
    {
     "name": "stderr",
     "output_type": "stream",
     "text": [
      "/opt/anaconda3/envs/Hands-On/lib/python3.7/site-packages/sklearn/utils/validation.py:72: FutureWarning: Pass criterion={'max_leaf_nodes': 3} as keyword args. From version 1.0 (renaming of 0.25) passing these as positional arguments will result in an error\n",
      "  \"will result in an error\", FutureWarning)\n"
     ]
    }
   ],
   "source": [
    "result = DecisionTreeClassifier(grid_search.best_params_)"
   ],
   "metadata": {
    "collapsed": false,
    "pycharm": {
     "name": "#%%\n"
    }
   }
  },
  {
   "cell_type": "code",
   "execution_count": 15,
   "outputs": [
    {
     "data": {
      "text/plain": "{'mean_fit_time': array([0.00089827, 0.00050859, 0.00056133]),\n 'std_fit_time': array([2.64958874e-04, 1.41021315e-05, 4.53736552e-05]),\n 'mean_score_time': array([0.00044789, 0.00030141, 0.0003417 ]),\n 'std_score_time': array([1.26560577e-04, 8.38121848e-06, 4.22183768e-05]),\n 'param_max_leaf_nodes': masked_array(data=[3, 5, 8],\n              mask=[False, False, False],\n        fill_value='?',\n             dtype=object),\n 'params': [{'max_leaf_nodes': 3},\n  {'max_leaf_nodes': 5},\n  {'max_leaf_nodes': 8}],\n 'split0_test_score': array([0.93333333, 0.86666667, 0.73333333]),\n 'split1_test_score': array([0.8, 0.8, 0.8]),\n 'split2_test_score': array([0.8, 0.8, 0.8]),\n 'split3_test_score': array([0.93333333, 0.93333333, 0.93333333]),\n 'split4_test_score': array([0.93333333, 0.93333333, 0.86666667]),\n 'mean_test_score': array([0.88      , 0.86666667, 0.82666667]),\n 'std_test_score': array([0.06531973, 0.05962848, 0.06798693]),\n 'rank_test_score': array([1, 2, 3], dtype=int32)}"
     },
     "execution_count": 15,
     "metadata": {},
     "output_type": "execute_result"
    }
   ],
   "source": [
    "result.fit(X_train,y_train)"
   ],
   "metadata": {
    "collapsed": false,
    "pycharm": {
     "name": "#%%\n"
    }
   }
  },
  {
   "cell_type": "code",
   "execution_count": null,
   "outputs": [],
   "source": [],
   "metadata": {
    "collapsed": false,
    "pycharm": {
     "name": "#%%\n"
    }
   }
  }
 ],
 "metadata": {
  "kernelspec": {
   "display_name": "Python 3",
   "language": "python",
   "name": "python3"
  },
  "language_info": {
   "codemirror_mode": {
    "name": "ipython",
    "version": 2
   },
   "file_extension": ".py",
   "mimetype": "text/x-python",
   "name": "python",
   "nbconvert_exporter": "python",
   "pygments_lexer": "ipython2",
   "version": "2.7.6"
  }
 },
 "nbformat": 4,
 "nbformat_minor": 0
}